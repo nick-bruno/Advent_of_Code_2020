{
 "cells": [
  {
   "cell_type": "markdown",
   "metadata": {},
   "source": [
    "# Day 2"
   ]
  },
  {
   "cell_type": "code",
   "execution_count": 1,
   "metadata": {},
   "outputs": [],
   "source": [
    "# Import input.txt file\n",
    "import pandas as pd\n",
    "import numpy as np\n",
    "df = pd.read_csv('input.txt', header=None)"
   ]
  },
  {
   "cell_type": "code",
   "execution_count": 2,
   "metadata": {},
   "outputs": [],
   "source": [
    "# Set a column name\n",
    "df.columns = ['text']"
   ]
  },
  {
   "cell_type": "markdown",
   "metadata": {},
   "source": [
    "### Puzzle 1"
   ]
  },
  {
   "cell_type": "code",
   "execution_count": 3,
   "metadata": {},
   "outputs": [],
   "source": [
    "# Find the min and max values from each string and create new columns representing these values\n",
    "df['min'] = df.text.str.split(' ').str[0].str.split('-').str[0].astype(int)\n",
    "df['max'] = df.text.str.split(' ').str[0].str.split('-').str[1].astype(int)"
   ]
  },
  {
   "cell_type": "code",
   "execution_count": 4,
   "metadata": {},
   "outputs": [],
   "source": [
    "# Create a column indicating the letter of interest\n",
    "df['letter'] = df.text.str.split(' ').str[1].str.strip(':')"
   ]
  },
  {
   "cell_type": "code",
   "execution_count": 5,
   "metadata": {},
   "outputs": [],
   "source": [
    "# Create a column of the entire string of interest\n",
    "df['letter_string'] = df.text.str.split(' ').str[2]"
   ]
  },
  {
   "cell_type": "code",
   "execution_count": 6,
   "metadata": {},
   "outputs": [],
   "source": [
    "# Import library that counts each letter in a string\n",
    "from collections import Counter"
   ]
  },
  {
   "cell_type": "code",
   "execution_count": 7,
   "metadata": {},
   "outputs": [],
   "source": [
    "# Define a function to return the number of occurrences of the letter of interest in the string of interest\n",
    "def letter_counter(letter, letter_string):\n",
    "    # Create a dictionary of all letters with their frequency\n",
    "    count_dict = Counter(letter_string)\n",
    "    # Find the frequency of the letter of interest\n",
    "    frequency = count_dict[letter]\n",
    "    # Return the frequency number\n",
    "    return frequency"
   ]
  },
  {
   "cell_type": "code",
   "execution_count": 8,
   "metadata": {},
   "outputs": [],
   "source": [
    "# Apply function to 'letter' and 'letter_string' columns to create  a 'num_occurences' column\n",
    "df['num_occurences'] = df.apply(lambda x: letter_counter(x['letter'], x['letter_string']), axis=1)"
   ]
  },
  {
   "cell_type": "code",
   "execution_count": 9,
   "metadata": {},
   "outputs": [],
   "source": [
    "# Create a function to find if the letter frequency in the string is within the set range\n",
    "def find_answer(min_num, max_num, num_occurences):\n",
    "    # If statement to find if the num_occurences is within the min and max range\n",
    "    if num_occurences in range(min_num, max_num+1):\n",
    "        return 'Valid'\n",
    "    else:\n",
    "        return 'Invalid'"
   ]
  },
  {
   "cell_type": "code",
   "execution_count": 10,
   "metadata": {},
   "outputs": [],
   "source": [
    "# Apply find_answer function to 'min', 'max', and 'num_occurences' columns to create 'answer' boolean column\n",
    "df['puzzle_1_answer'] = df.apply(lambda x: find_answer(x['min'], x['max'], x['num_occurences']), axis=1)"
   ]
  },
  {
   "cell_type": "code",
   "execution_count": 11,
   "metadata": {},
   "outputs": [
    {
     "data": {
      "text/html": [
       "<div>\n",
       "<style scoped>\n",
       "    .dataframe tbody tr th:only-of-type {\n",
       "        vertical-align: middle;\n",
       "    }\n",
       "\n",
       "    .dataframe tbody tr th {\n",
       "        vertical-align: top;\n",
       "    }\n",
       "\n",
       "    .dataframe thead th {\n",
       "        text-align: right;\n",
       "    }\n",
       "</style>\n",
       "<table border=\"1\" class=\"dataframe\">\n",
       "  <thead>\n",
       "    <tr style=\"text-align: right;\">\n",
       "      <th></th>\n",
       "      <th>text</th>\n",
       "      <th>min</th>\n",
       "      <th>max</th>\n",
       "      <th>letter</th>\n",
       "      <th>letter_string</th>\n",
       "      <th>num_occurences</th>\n",
       "      <th>puzzle_1_answer</th>\n",
       "    </tr>\n",
       "  </thead>\n",
       "  <tbody>\n",
       "    <tr>\n",
       "      <th>0</th>\n",
       "      <td>2-5 z: zzztvz</td>\n",
       "      <td>2</td>\n",
       "      <td>5</td>\n",
       "      <td>z</td>\n",
       "      <td>zzztvz</td>\n",
       "      <td>4</td>\n",
       "      <td>Valid</td>\n",
       "    </tr>\n",
       "    <tr>\n",
       "      <th>1</th>\n",
       "      <td>2-8 d: pddzddkdvqgxndd</td>\n",
       "      <td>2</td>\n",
       "      <td>8</td>\n",
       "      <td>d</td>\n",
       "      <td>pddzddkdvqgxndd</td>\n",
       "      <td>7</td>\n",
       "      <td>Valid</td>\n",
       "    </tr>\n",
       "  </tbody>\n",
       "</table>\n",
       "</div>"
      ],
      "text/plain": [
       "                     text  min  max letter    letter_string  num_occurences  \\\n",
       "0           2-5 z: zzztvz    2    5      z           zzztvz               4   \n",
       "1  2-8 d: pddzddkdvqgxndd    2    8      d  pddzddkdvqgxndd               7   \n",
       "\n",
       "  puzzle_1_answer  \n",
       "0           Valid  \n",
       "1           Valid  "
      ]
     },
     "execution_count": 11,
     "metadata": {},
     "output_type": "execute_result"
    }
   ],
   "source": [
    "df.head(2)"
   ]
  },
  {
   "cell_type": "markdown",
   "metadata": {},
   "source": [
    "### Puzzle 1 Answer"
   ]
  },
  {
   "cell_type": "code",
   "execution_count": 12,
   "metadata": {},
   "outputs": [
    {
     "data": {
      "text/plain": [
       "460"
      ]
     },
     "execution_count": 12,
     "metadata": {},
     "output_type": "execute_result"
    }
   ],
   "source": [
    "# Find all rows where the passwords are valid\n",
    "df[df.puzzle_1_answer == 'Valid'].shape[0]"
   ]
  },
  {
   "cell_type": "markdown",
   "metadata": {},
   "source": [
    "### Puzzle 2"
   ]
  },
  {
   "cell_type": "code",
   "execution_count": 13,
   "metadata": {},
   "outputs": [],
   "source": [
    "# Define function to find the index positions where the letter of interest is present in the string\n",
    "def find_letter_positions(letter, letter_string):\n",
    "    return [letter_position + 1 for letter_position, character in enumerate(letter_string) if character == letter]"
   ]
  },
  {
   "cell_type": "markdown",
   "metadata": {},
   "source": [
    "NOTE: You must add one to the index position because the puzzle is assuming the first character represents index 1 NOT index 0!"
   ]
  },
  {
   "cell_type": "code",
   "execution_count": 14,
   "metadata": {},
   "outputs": [],
   "source": [
    "# Apply 'find_letter_positions' to create the 'letter_positions' column\n",
    "df['letter_positions'] = df.apply(lambda x: find_letter_positions(x['letter'], x['letter_string']), axis=1)"
   ]
  },
  {
   "cell_type": "code",
   "execution_count": 15,
   "metadata": {},
   "outputs": [],
   "source": [
    "# Function to mark passwords are valid or invalid based from one of the index positions of the letter matching the\n",
    "# min and max values\n",
    "def puzzle_two_answer(min_num, max_num, letter_positions):\n",
    "    if (min_num in letter_positions) and (max_num in letter_positions):\n",
    "        return 'Invalid'\n",
    "    elif (min_num not in letter_positions) and (max_num not in letter_positions):\n",
    "        return 'Invalid'\n",
    "    else: # This implies only one of the min_num or max_num is found in the list of indices\n",
    "        return 'Valid'"
   ]
  },
  {
   "cell_type": "code",
   "execution_count": 16,
   "metadata": {},
   "outputs": [],
   "source": [
    "# Apply 'puzzle_two_answer' function to create 'puzzle_2_answer' column\n",
    "df['puzzle_2_answer'] = df.apply(lambda x: puzzle_two_answer(x['min'], x['max'], x['letter_positions']), axis=1)"
   ]
  },
  {
   "cell_type": "code",
   "execution_count": 17,
   "metadata": {},
   "outputs": [
    {
     "data": {
      "text/html": [
       "<div>\n",
       "<style scoped>\n",
       "    .dataframe tbody tr th:only-of-type {\n",
       "        vertical-align: middle;\n",
       "    }\n",
       "\n",
       "    .dataframe tbody tr th {\n",
       "        vertical-align: top;\n",
       "    }\n",
       "\n",
       "    .dataframe thead th {\n",
       "        text-align: right;\n",
       "    }\n",
       "</style>\n",
       "<table border=\"1\" class=\"dataframe\">\n",
       "  <thead>\n",
       "    <tr style=\"text-align: right;\">\n",
       "      <th></th>\n",
       "      <th>text</th>\n",
       "      <th>min</th>\n",
       "      <th>max</th>\n",
       "      <th>letter</th>\n",
       "      <th>letter_string</th>\n",
       "      <th>num_occurences</th>\n",
       "      <th>puzzle_1_answer</th>\n",
       "      <th>letter_positions</th>\n",
       "      <th>puzzle_2_answer</th>\n",
       "    </tr>\n",
       "  </thead>\n",
       "  <tbody>\n",
       "    <tr>\n",
       "      <th>0</th>\n",
       "      <td>2-5 z: zzztvz</td>\n",
       "      <td>2</td>\n",
       "      <td>5</td>\n",
       "      <td>z</td>\n",
       "      <td>zzztvz</td>\n",
       "      <td>4</td>\n",
       "      <td>Valid</td>\n",
       "      <td>[1, 2, 3, 6]</td>\n",
       "      <td>Valid</td>\n",
       "    </tr>\n",
       "    <tr>\n",
       "      <th>1</th>\n",
       "      <td>2-8 d: pddzddkdvqgxndd</td>\n",
       "      <td>2</td>\n",
       "      <td>8</td>\n",
       "      <td>d</td>\n",
       "      <td>pddzddkdvqgxndd</td>\n",
       "      <td>7</td>\n",
       "      <td>Valid</td>\n",
       "      <td>[2, 3, 5, 6, 8, 14, 15]</td>\n",
       "      <td>Invalid</td>\n",
       "    </tr>\n",
       "  </tbody>\n",
       "</table>\n",
       "</div>"
      ],
      "text/plain": [
       "                     text  min  max letter    letter_string  num_occurences  \\\n",
       "0           2-5 z: zzztvz    2    5      z           zzztvz               4   \n",
       "1  2-8 d: pddzddkdvqgxndd    2    8      d  pddzddkdvqgxndd               7   \n",
       "\n",
       "  puzzle_1_answer         letter_positions puzzle_2_answer  \n",
       "0           Valid             [1, 2, 3, 6]           Valid  \n",
       "1           Valid  [2, 3, 5, 6, 8, 14, 15]         Invalid  "
      ]
     },
     "execution_count": 17,
     "metadata": {},
     "output_type": "execute_result"
    }
   ],
   "source": [
    "df.head(2)"
   ]
  },
  {
   "cell_type": "markdown",
   "metadata": {},
   "source": [
    "### Puzzle 2 Answer"
   ]
  },
  {
   "cell_type": "code",
   "execution_count": 18,
   "metadata": {},
   "outputs": [
    {
     "data": {
      "text/plain": [
       "Invalid    749\n",
       "Valid      251\n",
       "Name: puzzle_2_answer, dtype: int64"
      ]
     },
     "execution_count": 18,
     "metadata": {},
     "output_type": "execute_result"
    }
   ],
   "source": [
    "# Use another method to find the number of valid passwords for puzzle 2\n",
    "df.puzzle_2_answer.value_counts()"
   ]
  }
 ],
 "metadata": {
  "kernelspec": {
   "display_name": "Python 3",
   "language": "python",
   "name": "python3"
  },
  "language_info": {
   "codemirror_mode": {
    "name": "ipython",
    "version": 3
   },
   "file_extension": ".py",
   "mimetype": "text/x-python",
   "name": "python",
   "nbconvert_exporter": "python",
   "pygments_lexer": "ipython3",
   "version": "3.6.4"
  }
 },
 "nbformat": 4,
 "nbformat_minor": 2
}
